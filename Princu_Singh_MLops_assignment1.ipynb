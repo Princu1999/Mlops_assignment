{
  "nbformat": 4,
  "nbformat_minor": 0,
  "metadata": {
    "colab": {
      "provenance": []
    },
    "kernelspec": {
      "name": "python3",
      "display_name": "Python 3"
    },
    "language_info": {
      "name": "python"
    }
  },
  "cells": [
    {
      "cell_type": "markdown",
      "source": [
        "## MLOps Assignment 1"
      ],
      "metadata": {
        "id": "LlIGlcIiywyq"
      }
    },
    {
      "cell_type": "markdown",
      "source": [
        "# New Section"
      ],
      "metadata": {
        "id": "sXPgbrNV9iWh"
      }
    },
    {
      "cell_type": "markdown",
      "source": [
        "Q1. Print multiplication table from 1 to 10"
      ],
      "metadata": {
        "id": "i3GplYoCqa89"
      }
    },
    {
      "cell_type": "code",
      "source": [
        "#write here and run the cell\n",
        "\n",
        "for i in range(1,11):\n",
        "  print(\"Table of:\", i)\n",
        "  for j in range(1,11):\n",
        "    print(f\"{i} x {j} = {i*j}\", end = \"\\t\")\n",
        "  print()\n",
        "    #print(\"Table of \",{i}, \" is: \", i*j)\n"
      ],
      "metadata": {
        "id": "Vfm5RBY0qbIs",
        "colab": {
          "base_uri": "https://localhost:8080/"
        },
        "outputId": "df4744e4-d3fb-440e-a6d6-cc72d8141efe"
      },
      "execution_count": null,
      "outputs": [
        {
          "output_type": "stream",
          "name": "stdout",
          "text": [
            "Table of: 1\n",
            "1 x 1 = 1\t1 x 2 = 2\t1 x 3 = 3\t1 x 4 = 4\t1 x 5 = 5\t1 x 6 = 6\t1 x 7 = 7\t1 x 8 = 8\t1 x 9 = 9\t1 x 10 = 10\t\n",
            "Table of: 2\n",
            "2 x 1 = 2\t2 x 2 = 4\t2 x 3 = 6\t2 x 4 = 8\t2 x 5 = 10\t2 x 6 = 12\t2 x 7 = 14\t2 x 8 = 16\t2 x 9 = 18\t2 x 10 = 20\t\n",
            "Table of: 3\n",
            "3 x 1 = 3\t3 x 2 = 6\t3 x 3 = 9\t3 x 4 = 12\t3 x 5 = 15\t3 x 6 = 18\t3 x 7 = 21\t3 x 8 = 24\t3 x 9 = 27\t3 x 10 = 30\t\n",
            "Table of: 4\n",
            "4 x 1 = 4\t4 x 2 = 8\t4 x 3 = 12\t4 x 4 = 16\t4 x 5 = 20\t4 x 6 = 24\t4 x 7 = 28\t4 x 8 = 32\t4 x 9 = 36\t4 x 10 = 40\t\n",
            "Table of: 5\n",
            "5 x 1 = 5\t5 x 2 = 10\t5 x 3 = 15\t5 x 4 = 20\t5 x 5 = 25\t5 x 6 = 30\t5 x 7 = 35\t5 x 8 = 40\t5 x 9 = 45\t5 x 10 = 50\t\n",
            "Table of: 6\n",
            "6 x 1 = 6\t6 x 2 = 12\t6 x 3 = 18\t6 x 4 = 24\t6 x 5 = 30\t6 x 6 = 36\t6 x 7 = 42\t6 x 8 = 48\t6 x 9 = 54\t6 x 10 = 60\t\n",
            "Table of: 7\n",
            "7 x 1 = 7\t7 x 2 = 14\t7 x 3 = 21\t7 x 4 = 28\t7 x 5 = 35\t7 x 6 = 42\t7 x 7 = 49\t7 x 8 = 56\t7 x 9 = 63\t7 x 10 = 70\t\n",
            "Table of: 8\n",
            "8 x 1 = 8\t8 x 2 = 16\t8 x 3 = 24\t8 x 4 = 32\t8 x 5 = 40\t8 x 6 = 48\t8 x 7 = 56\t8 x 8 = 64\t8 x 9 = 72\t8 x 10 = 80\t\n",
            "Table of: 9\n",
            "9 x 1 = 9\t9 x 2 = 18\t9 x 3 = 27\t9 x 4 = 36\t9 x 5 = 45\t9 x 6 = 54\t9 x 7 = 63\t9 x 8 = 72\t9 x 9 = 81\t9 x 10 = 90\t\n",
            "Table of: 10\n",
            "10 x 1 = 10\t10 x 2 = 20\t10 x 3 = 30\t10 x 4 = 40\t10 x 5 = 50\t10 x 6 = 60\t10 x 7 = 70\t10 x 8 = 80\t10 x 9 = 90\t10 x 10 = 100\t\n"
          ]
        }
      ]
    },
    {
      "cell_type": "markdown",
      "source": [
        "Q2. Given two lists, l1 and l2, write a program to create a third list l3 by picking an odd-index element from the list l1 and even index elements from the list l2."
      ],
      "metadata": {
        "id": "kCxjfhGtiMFb"
      }
    },
    {
      "cell_type": "code",
      "source": [
        "#write here and run the cell\n",
        "l1 = [\"DELHI\", \"MUMBAI\", \"KOLKATA\", \"CHENNAI\", \"UP\", \"GUJRAT\"]\n",
        "l2 = [\"CRICKET\", \"FOOTBALL\", \"BADMINTON\", \"TABLE TENNIS\", \"SQUASH\"]\n",
        "l3 = []\n",
        "\n",
        "for i in range(1,len(l1),2):\n",
        "    l3.append(l1[i])\n",
        "\n",
        "for j in range(0,len(l2),2):\n",
        "    l3.append(l2[j])\n",
        "\n",
        "print(l3)"
      ],
      "metadata": {
        "id": "r1lkQPN8iNSc",
        "colab": {
          "base_uri": "https://localhost:8080/"
        },
        "outputId": "18869e53-80d4-4ee6-dcea-c217a13f300e"
      },
      "execution_count": null,
      "outputs": [
        {
          "output_type": "stream",
          "name": "stdout",
          "text": [
            "['MUMBAI', 'CHENNAI', 'GUJRAT', 'CRICKET', 'BADMINTON', 'SQUASH']\n"
          ]
        }
      ]
    },
    {
      "cell_type": "markdown",
      "source": [
        "Q3. Print a this pattern(*)\n",
        "\n",
        "    * * * * * * * *\n",
        "      * * * * * * *\n",
        "        * * * * * *\n",
        "          * * * * *\n",
        "            * * * *\n",
        "              * * *\n",
        "                * *\n",
        "                  *"
      ],
      "metadata": {
        "id": "GBb0FgtIq4YA"
      }
    },
    {
      "cell_type": "code",
      "source": [
        "#write here and run the cell\n",
        "\n",
        "for i in range(8):\n",
        "  for j in range(i):\n",
        "    print(\" \", end=\"\")\n",
        "  for k in range(8-i):\n",
        "    print(\"*\", end =\"\")\n",
        "  print()"
      ],
      "metadata": {
        "id": "rfbGzuA3rcGs",
        "colab": {
          "base_uri": "https://localhost:8080/"
        },
        "outputId": "fa704cbb-d425-40b5-c689-91f64a06d594"
      },
      "execution_count": 59,
      "outputs": [
        {
          "output_type": "stream",
          "name": "stdout",
          "text": [
            "********\n",
            " *******\n",
            "  ******\n",
            "   *****\n",
            "    ****\n",
            "     ***\n",
            "      **\n",
            "       *\n"
          ]
        }
      ]
    },
    {
      "cell_type": "markdown",
      "source": [
        "Q4. Create a function named `exponent(base, exp)` that returns an integer representing the result of raising `base` to the power of `exp`.\n",
        "`exp` is >0.\n",
        "\n",
        "base = 5\n",
        "exponent = 4\n",
        "\n",
        "5 raises to the power of 4 is: 625\n",
        "i.e. (5 *5 * 5 *5 = 625)"
      ],
      "metadata": {
        "id": "WIblh-z6s9me"
      }
    },
    {
      "cell_type": "code",
      "source": [
        "#write here and run the cell\n",
        "def exponent(base, exp):\n",
        "  if exp>0:\n",
        "    return print(base**exp)\n",
        "\n",
        "exponent(5,4)\n",
        "\n"
      ],
      "metadata": {
        "id": "6-KKDQNWs8eQ",
        "colab": {
          "base_uri": "https://localhost:8080/"
        },
        "outputId": "616bf8e0-319d-4ce7-dd28-72fcae8551c5"
      },
      "execution_count": null,
      "outputs": [
        {
          "output_type": "stream",
          "name": "stdout",
          "text": [
            "625\n"
          ]
        }
      ]
    },
    {
      "cell_type": "markdown",
      "source": [
        "Q5. Create a file named test.txt and insert the following content into it.\n",
        "\n",
        "    line1\n",
        "    line2\n",
        "    line3\n",
        "    line4\n",
        "    line5\n",
        "    line6\n",
        "    line7\n",
        "\n",
        "Write a program which write all content of a given file (test.txt) into a new file by skipping line number 5 (line5)"
      ],
      "metadata": {
        "id": "_QUrD8h6t6PN"
      }
    },
    {
      "cell_type": "code",
      "source": [
        "#write here and run the cell\n",
        "file1 = open(\"test.txt\", \"a+\")\n",
        "user_input = ['line1\\n','line2\\n','line3\\n','line4\\n','line5\\n','line6\\n','line7\\n']\n",
        "#user_input = input(\"Type: \\n\")\n",
        "with open(\"test.txt\", \"a+\") as file1:\n",
        "    file1.writelines(user_input)\n",
        "\n",
        "\n",
        "\n",
        "\n"
      ],
      "metadata": {
        "id": "I2KF1QHKrq-s"
      },
      "execution_count": 18,
      "outputs": []
    },
    {
      "cell_type": "code",
      "source": [
        "\n",
        "with open(\"test.txt\", \"r\") as org:\n",
        "  lines = org.readlines()\n",
        "\n",
        "with open(\"new_test.txt\",\"w\") as new_file:\n",
        "  for i, line in enumerate(lines):\n",
        "    if i!=4:\n",
        "      new_file.write(line)\n",
        "\n"
      ],
      "metadata": {
        "id": "gmM40qu4-Aix"
      },
      "execution_count": 65,
      "outputs": []
    },
    {
      "cell_type": "code",
      "source": [
        "with open(\"new_test.txt\",\"r\") as new_file:\n",
        "  for i in new_file:\n",
        "    print(i, end='')"
      ],
      "metadata": {
        "colab": {
          "base_uri": "https://localhost:8080/"
        },
        "id": "NuGgbTN8ZnqD",
        "outputId": "414c60d1-a2ac-48ed-8fa2-c8c1cff0f761"
      },
      "execution_count": 66,
      "outputs": [
        {
          "output_type": "stream",
          "name": "stdout",
          "text": [
            "line1\n",
            "line2\n",
            "line3\n",
            "line4\n",
            "line6\n",
            "line7\n"
          ]
        }
      ]
    },
    {
      "cell_type": "markdown",
      "source": [
        "Q6. Write a program which receives three names from the user in a single input() function call.\n",
        "\n",
        "    Input: IIT JODHPUR RAJASTHAN\n",
        "\n",
        "    Output:\n",
        "    IIT\n",
        "    JODHPUR\n",
        "    RAJASTHAN"
      ],
      "metadata": {
        "id": "6cdAt0ONvMVI"
      }
    },
    {
      "cell_type": "code",
      "source": [
        "#write here and run the cell\n",
        "user = input(\"Enter: \")\n",
        "txt = user.split()\n",
        "for i in txt:\n",
        "  print(i)"
      ],
      "metadata": {
        "id": "Mo0wyeB6vJJm",
        "colab": {
          "base_uri": "https://localhost:8080/"
        },
        "outputId": "1713c3ea-2b20-49ec-c930-bc6615601f27"
      },
      "execution_count": 31,
      "outputs": [
        {
          "output_type": "stream",
          "name": "stdout",
          "text": [
            "Enter: IIT JODHPUR RAJASTHAN\n",
            "IIT\n",
            "JODHPUR\n",
            "RAJASTHAN\n"
          ]
        }
      ]
    },
    {
      "cell_type": "markdown",
      "source": [
        "Q7. Write a program to define a function called show_employee() with the following requirements:\n",
        "\n",
        "*   It should take the employee's name and salary as input and display both.\n",
        "*   If the salary is not provided in the function call, assign a default value of 9000 to it.\n",
        "\n",
        "After passing:\n",
        "\n",
        "showEmployee(\"Bill Gates\", 12000)\n",
        "\n",
        "showEmployee(\"Elon Musk\")\n",
        "\n",
        "It should print:\n",
        "\n",
        "Name: Bill Gates salary: 12000\n",
        "\n",
        "Name: Elon Musk salary: 9000"
      ],
      "metadata": {
        "id": "jwSKpPcYv_De"
      }
    },
    {
      "cell_type": "code",
      "source": [
        "#write here and run the cell\n",
        "def show_employee(name, salary=9000):\n",
        "  print(f\"Name:{name} Salary:{salary}\")\n",
        "\n",
        "show_employee(\"Bill Gates\", 12000)\n",
        "show_employee(\"Elon Musk\")"
      ],
      "metadata": {
        "id": "yyzhkF1Lv94j",
        "colab": {
          "base_uri": "https://localhost:8080/"
        },
        "outputId": "24ee981c-6aec-4bc7-9d22-1949647ee04a"
      },
      "execution_count": 33,
      "outputs": [
        {
          "output_type": "stream",
          "name": "stdout",
          "text": [
            "Name:Bill Gates Salary:12000\n",
            "Name:Elon Musk Salary:9000\n"
          ]
        }
      ]
    },
    {
      "cell_type": "markdown",
      "source": [
        "Q8. Write a program to identify words that contain both letters and digits from a given input string.\n",
        "\n",
        "    Given str1 = \"Harry25 is Gryffindor Wizard50 and cursed\"\n",
        "\n",
        "    Output:\n",
        "    Harry25\n",
        "    Wizard50"
      ],
      "metadata": {
        "id": "BAtCQH3pxXWV"
      }
    },
    {
      "cell_type": "code",
      "source": [
        "#write here and run the cell\n",
        "str1 = \"Harry25 is Gryffindor Wizard50 and cursed\"\n",
        "spl_str = str1.split()\n",
        "result = []\n",
        "\n",
        "for i in spl_str:\n",
        "  letter = False\n",
        "  num = False\n",
        "\n",
        "  for j in i:\n",
        "    if j.isalpha():\n",
        "      letter = True\n",
        "\n",
        "    if j.isdigit():\n",
        "      num = True\n",
        "\n",
        "  if letter and num:\n",
        "    print(i)\n",
        "\n"
      ],
      "metadata": {
        "id": "bqbyxYdqvJHY",
        "colab": {
          "base_uri": "https://localhost:8080/"
        },
        "outputId": "7979d4aa-a76d-4b01-a0dc-46e52c75762d"
      },
      "execution_count": 39,
      "outputs": [
        {
          "output_type": "stream",
          "name": "stdout",
          "text": [
            "Harry25\n",
            "Wizard50\n"
          ]
        }
      ]
    },
    {
      "cell_type": "markdown",
      "source": [
        "Q9. Write a program to substitute each special character in the given string with the symbol #.\n",
        "\n",
        "    Given: str1 = '/*Modi is @Politician & Melony!!'\n",
        "\n",
        "    Output: ##Modi is #Politician # Melony##"
      ],
      "metadata": {
        "id": "Ev6TIw7oyGzJ"
      }
    },
    {
      "cell_type": "code",
      "source": [
        "#write here and run the cell\n",
        "str1 = '/*Modi is @Politician & Melony!!'\n",
        "var = ''\n",
        "\n",
        "for i in str1:\n",
        "  if not i.isalnum() and i != ' ':\n",
        "    var +='#'\n",
        "\n",
        "  else:\n",
        "    var += i\n",
        "\n",
        "print(var)\n",
        "\n"
      ],
      "metadata": {
        "id": "Hbg92hJtvJE7",
        "colab": {
          "base_uri": "https://localhost:8080/"
        },
        "outputId": "8083429c-09ba-4049-ee91-1ea2ec55ed40"
      },
      "execution_count": 45,
      "outputs": [
        {
          "output_type": "stream",
          "name": "stdout",
          "text": [
            "##Modi is #Politician # Melony##\n"
          ]
        }
      ]
    },
    {
      "cell_type": "markdown",
      "source": [
        "Q10. Construct a Python set that displays elements from both lists as pairs.\n",
        "\n",
        "    Given:\n",
        "\n",
        "    first_list = [2, 3, 4, 5, 6, 7, 8]\n",
        "    second_list = [4, 9, 16, 25, 36, 49, 64]\n",
        "    Output: Result is  {(6, 36), (8, 64), (4, 16), (5, 25), (3, 9), (7, 49), (2, 4)}"
      ],
      "metadata": {
        "id": "L9zg8k_XyoMz"
      }
    },
    {
      "cell_type": "code",
      "source": [
        "#write here and run the cell\n",
        "first_list = [2, 3, 4, 5, 6, 7, 8]\n",
        "second_list = [4, 9, 16, 25, 36, 49, 64]\n",
        "reult = set()\n",
        "\n",
        "\n",
        "for i in range(len(first_list)):\n",
        "  i=(first_list[i], second_list[i])\n",
        "  result.add(i)\n",
        "\n",
        "print(result)"
      ],
      "metadata": {
        "id": "aSBw6V0OvJCS",
        "colab": {
          "base_uri": "https://localhost:8080/"
        },
        "outputId": "897a84d2-471c-4267-9f9f-b7de753073ed"
      },
      "execution_count": 52,
      "outputs": [
        {
          "output_type": "stream",
          "name": "stdout",
          "text": [
            "{(7, 49), (2, 4), (4, 16), (8, 64), (6, 36), (3, 9), (5, 25)}\n"
          ]
        }
      ]
    },
    {
      "cell_type": "markdown",
      "source": [
        "Q11. Define two set A and B consisting of 5 elements. Now print the element after performing\n",
        "\n",
        "\n",
        "      1.   A-B\n",
        "      2.   B-A\n",
        "      3.   A∩B\n",
        "      4.   A∪B\n",
        "\n",
        "\n"
      ],
      "metadata": {
        "id": "JHa0SMOozZo9"
      }
    },
    {
      "cell_type": "code",
      "source": [
        "#write here and run the cell\n",
        "A = {1,3,5,6,7}\n",
        "B = {2,4,6,8,10}\n",
        "\n",
        "Minus = A - B\n",
        "Add = B - A\n",
        "Intersection = A & B\n",
        "Union = A | B\n",
        "\n",
        "print(\"A-B:\", Minus)\n",
        "print(\"A+B:\", Add)\n",
        "print(\"A&B:\", Intersection)\n",
        "print(\"A|B:\", Union)\n"
      ],
      "metadata": {
        "id": "r9vL1bpHzZGg",
        "colab": {
          "base_uri": "https://localhost:8080/"
        },
        "outputId": "b9bd5182-3048-4d1c-a419-cb403b9bd173"
      },
      "execution_count": 54,
      "outputs": [
        {
          "output_type": "stream",
          "name": "stdout",
          "text": [
            "A-B: {1, 3, 5, 7}\n",
            "A+B: {8, 2, 10, 4}\n",
            "A&B: {6}\n",
            "A|B: {1, 2, 3, 4, 5, 6, 7, 8, 10}\n"
          ]
        }
      ]
    },
    {
      "cell_type": "markdown",
      "source": [
        "## Object Oriented Programming Exercise 1:\n",
        "\n",
        "[Classes and Objects in Python](https://pynative.com/python-classes-and-objects/)\n",
        "\n",
        "[Instance variables in Python](https://pynative.com/python-instance-variables/)"
      ],
      "metadata": {
        "id": "UFjTtL_i00dz"
      }
    },
    {
      "cell_type": "markdown",
      "source": [
        "Q12. Create a Vehicle class with max_speed and mileage instance attributes."
      ],
      "metadata": {
        "id": "-PQELvq41z5B"
      }
    },
    {
      "cell_type": "code",
      "source": [
        "#write here and run the cell\n",
        "class Vehicle:\n",
        "    def __init__(self, m_speed, mileage):\n",
        "        self.m_speed = m_speed\n",
        "        self.mileage = mileage\n",
        "\n",
        "    def display(self):\n",
        "      print(\"Max Speed is: \", self.m_speed)\n",
        "      print(\"Mileage is: \", self.mileage)\n",
        "\n",
        "\n",
        "obj_Vehicle = Vehicle(200, 50000)\n",
        "obj_Vehicle.display()"
      ],
      "metadata": {
        "id": "Wa16l5-C0z3Z",
        "colab": {
          "base_uri": "https://localhost:8080/"
        },
        "outputId": "35cb76e6-e81b-4f23-852f-c4258b3e2d87"
      },
      "execution_count": 82,
      "outputs": [
        {
          "output_type": "stream",
          "name": "stdout",
          "text": [
            "Max Speed is:  200\n",
            "Mileage is:  50000\n"
          ]
        }
      ]
    },
    {
      "cell_type": "markdown",
      "source": [
        "Q13. Create a child class Bus that will inherit all of the variables and methods of the Vehicle class.\n",
        "\n",
        "Create a Bus object that will inherit all of the variables and methods of the parent Vehicle class and display it."
      ],
      "metadata": {
        "id": "-Japqg35177L"
      }
    },
    {
      "cell_type": "code",
      "source": [
        "#write here and run the cell\n",
        "class Vehicle:\n",
        "    def __init__(self, m_speed, mileage):\n",
        "        self.m_speed = m_speed\n",
        "        self.mileage = mileage\n",
        "\n",
        "\n",
        "class Bus(Vehicle):\n",
        "    def __init__(self, m_speed, mileage):\n",
        "        super().__init__(m_speed, mileage)\n",
        "\n",
        "    def display(self):\n",
        "      print(\"Max Speed: \", self.m_speed)\n",
        "      print(\"Mileage: \", self.mileage)\n",
        "\n",
        "obj_bus = Bus(200, 50000)\n",
        "obj_bus.display()"
      ],
      "metadata": {
        "id": "nUvpX3qR2Upg",
        "colab": {
          "base_uri": "https://localhost:8080/"
        },
        "outputId": "6d35615c-4261-4d9a-de84-236c9abef0f2"
      },
      "execution_count": 60,
      "outputs": [
        {
          "output_type": "stream",
          "name": "stdout",
          "text": [
            "Max Speed:  200\n",
            "Mileage:  50000\n"
          ]
        }
      ]
    },
    {
      "cell_type": "markdown",
      "source": [
        "### Class Inheritance\n",
        "\n",
        "Q14. Create a Bus class that inherits from the Vehicle class. Give the capacity argument of Bus.seating_capacity() a default value of 50.\n",
        "\n",
        "Use the following code for your parent Vehicle class.\n",
        "\n",
        "    class Vehicle:\n",
        "      def __init__(self, name, max_speed, mileage):\n",
        "          self.name = name\n",
        "          self.max_speed = max_speed\n",
        "          self.mileage = mileage\n",
        "\n",
        "      def seating_capacity(self, capacity):\n",
        "          return f\"The seating capacity of a {self.name} is {capacity} passengers\"\n",
        "\n",
        "Expected Output:\n",
        "\n",
        "    The seating capacity of a bus is 50 passengers"
      ],
      "metadata": {
        "id": "fPFfg2Hh2VBe"
      }
    },
    {
      "cell_type": "code",
      "source": [
        "#write here and run the cell\n",
        "class Vehicle:\n",
        "  def __init__(self, name, max_speed, mileage):\n",
        "      self.name = name\n",
        "      self.max_speed = max_speed\n",
        "      self.mileage = mileage\n",
        "\n",
        "  def seating_capacity(self, capacity):\n",
        "      return f\"The seating capacity of a {self.name} is {capacity} passengers\"\n",
        "\n",
        "class Bus(Vehicle):\n",
        "  def __init__(self, name, max_speed, mileage):\n",
        "      super().__init__(name, max_speed, mileage)\n",
        "\n",
        "  def seating_capacity(self, capacity=50):\n",
        "      return f\"The seating capacity of a {self.name} is {capacity} passengers\"\n",
        "\n",
        "obj_bus = Bus(\"bus\", 120,2000)\n",
        "\n",
        "print(obj_bus.seating_capacity())\n"
      ],
      "metadata": {
        "id": "TKalMy1B2_Ix",
        "colab": {
          "base_uri": "https://localhost:8080/"
        },
        "outputId": "5b45dd04-229a-4fbb-e2fa-d336317474aa"
      },
      "execution_count": 70,
      "outputs": [
        {
          "output_type": "stream",
          "name": "stdout",
          "text": [
            "The seating capacity of a bus is 50 passengers\n"
          ]
        }
      ]
    },
    {
      "cell_type": "markdown",
      "source": [
        "Q15. Create a Bus subclass that inherits from the Vehicle class. By default, the fare for any vehicle is calculated as the seating capacity multiplied by 100. For instances of the Bus class, an additional 10% maintenance fee should be applied to the total fare. Therefore, the final fare for a bus instance will be the sum of the total fare plus an additional 10% of that total fare.\n",
        "\n",
        "Note: The bus has a seating capacity of 50, so the final fare amount should be 5500. You need to override the fare() method from the Vehicle class in the Bus class.\n",
        "\n",
        "Use the provided code for the parent Vehicle class. You should access the parent class within a method of the child class.\n",
        "\n",
        "    class Vehicle:\n",
        "      def __init__(self, name, mileage, capacity):\n",
        "        self.name = name\n",
        "        self.mileage = mileage\n",
        "        self.capacity = capacity\n",
        "\n",
        "      def fare(self):\n",
        "        return self.capacity * 100\n",
        "\n",
        "    class Bus(Vehicle):\n",
        "        pass\n",
        "        School_bus = Bus(\"School Volvo\", 12, 50)\n",
        "        print(\"Total Bus fare is:\", School_bus.fare())\n",
        "\n",
        "    Expected Output:\n",
        "\n",
        "    Total Bus fare is: 5500.0"
      ],
      "metadata": {
        "id": "kenJ766m2_jc"
      }
    },
    {
      "cell_type": "code",
      "source": [
        "#write here and run the cell\n",
        "class Vehicle:\n",
        "  def __init__(self, name, mileage, capacity):\n",
        "    self.name = name\n",
        "    self.mileage = mileage\n",
        "    self.capacity = capacity\n",
        "\n",
        "  def fare(self):\n",
        "    return self.capacity * 100\n",
        "\n",
        "class Bus(Vehicle):\n",
        "  def fare(self):\n",
        "    vehicle_fare = super().fare()\n",
        "    maintainence = 0.10 * vehicle_fare\n",
        "    total = vehicle_fare + maintainence\n",
        "    return total\n",
        "\n",
        "\n",
        "School_bus = Bus(\"School Volvo\", 12, 50)\n",
        "print(\"Total Bus fare is:\", School_bus.fare())"
      ],
      "metadata": {
        "id": "jY3Z5SsY_iaQ",
        "colab": {
          "base_uri": "https://localhost:8080/"
        },
        "outputId": "f968adba-92ea-4457-e7d3-118db47e1b01"
      },
      "execution_count": 74,
      "outputs": [
        {
          "output_type": "stream",
          "name": "stdout",
          "text": [
            "Total Bus fare is: 5500.0\n"
          ]
        }
      ]
    },
    {
      "cell_type": "markdown",
      "source": [
        "### Python JSON Exercise\n",
        "Refer: [Python JSON tutorials](https://pynative.com/python/json/)"
      ],
      "metadata": {
        "id": "3wMvLEkk_nWE"
      }
    },
    {
      "cell_type": "markdown",
      "source": [
        "Q16. Convert the following dictionary into JSON format\n",
        "\n",
        "    data = {\"key1\" : \"value1\", \"key2\" : \"value2\"}\n",
        "    data = {\"key1\" : \"value1\", \"key2\" : \"value2\"}"
      ],
      "metadata": {
        "id": "zVIiuI0PAcuT"
      }
    },
    {
      "cell_type": "code",
      "source": [
        "#write here and run the cell\n",
        "import json\n",
        "\n",
        "data = {\"key1\" : \"value1\", \"key2\" : \"value2\"}\n",
        "\n",
        "jdata = json.dumps(data, indent=2)\n",
        "print(jdata)"
      ],
      "metadata": {
        "id": "Z5M47OYS_mhA",
        "colab": {
          "base_uri": "https://localhost:8080/"
        },
        "outputId": "a4eed59f-88d9-4c38-a9ba-e236bf2d8de0"
      },
      "execution_count": 78,
      "outputs": [
        {
          "output_type": "stream",
          "name": "stdout",
          "text": [
            "{\n",
            "  \"key1\": \"value1\",\n",
            "  \"key2\": \"value2\"\n",
            "}\n"
          ]
        }
      ]
    },
    {
      "cell_type": "markdown",
      "source": [
        "Q17. Sort JSON keys in and write them into a file\n",
        "\n",
        "    sampleJson = {\"id\" : 1, \"name\" : \"value2\", \"age\" : 29}\n",
        "\n",
        "    {\n",
        "          \"age\": 29,\n",
        "          \"id\": 1,\n",
        "          \"name\": \"value2\"\n",
        "    }"
      ],
      "metadata": {
        "id": "8eE35QccA_X-"
      }
    },
    {
      "cell_type": "code",
      "source": [
        "#write here and run the cell\n",
        "\n",
        "sampleJson = {\"id\" : 1, \"name\" : \"value2\", \"age\" : 29}\n",
        "\n",
        "with open('json_file.json', 'w') as file:\n",
        "    json.dump(sampleJson, file, indent=4, sort_keys=True)"
      ],
      "metadata": {
        "id": "jLG5tk_X_j5O"
      },
      "execution_count": 79,
      "outputs": []
    },
    {
      "cell_type": "code",
      "source": [
        "import json\n",
        "\n",
        "with open('json_file.json', 'r') as file:\n",
        "    data = json.load(file)\n",
        "\n",
        "print(json.dumps(data, indent=4))"
      ],
      "metadata": {
        "colab": {
          "base_uri": "https://localhost:8080/"
        },
        "id": "mSgIfYQZfSc0",
        "outputId": "a2fdeae9-c5ad-4dbd-cab8-1f45bee600d3"
      },
      "execution_count": 80,
      "outputs": [
        {
          "output_type": "stream",
          "name": "stdout",
          "text": [
            "{\n",
            "    \"age\": 29,\n",
            "    \"id\": 1,\n",
            "    \"name\": \"value2\"\n",
            "}\n"
          ]
        }
      ]
    }
  ]
}